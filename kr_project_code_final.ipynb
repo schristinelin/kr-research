{
 "cells": [
  {
   "cell_type": "code",
   "execution_count": 1,
   "id": "5bb4eb84",
   "metadata": {},
   "outputs": [],
   "source": [
    "# import libraries\n",
    "import requests\n",
    "import pandas as pd\n",
    "import urllib\n",
    "import json\n",
    "from nltk.tokenize import word_tokenize\n",
    "import nltk\n",
    "import os\n",
    "#nltk.download('punkt')\n",
    "\n",
    "from selenium import webdriver\n",
    "from selenium.webdriver.common.keys import Keys"
   ]
  },
  {
   "cell_type": "code",
   "execution_count": 2,
   "id": "0d4d3fde",
   "metadata": {},
   "outputs": [],
   "source": [
    "# function to access wikipathway swagger API\n",
    "def api_request(target, species):\n",
    "    species = urllib.parse.quote(species) # encode when needed\n",
    "    # api link\n",
    "    r = requests.get(f'https://webservice.wikipathways.org/findPathwaysByText?query={target}&species={species}&format=json')\n",
    "\n",
    "    # convert into dataframe\n",
    "    data = json.loads(r.text)\n",
    "    df = pd.json_normalize(data['result'])\n",
    "\n",
    "    return df"
   ]
  },
  {
   "cell_type": "code",
   "execution_count": 3,
   "id": "5e75bc37",
   "metadata": {},
   "outputs": [],
   "source": [
    "# function for selenium web data retrieval\n",
    "def ele_retrieval(df):\n",
    "    z = 0\n",
    "\n",
    "    title_list = []\n",
    "    name_list = []\n",
    "    type_list = []\n",
    "    db_ref_list = []\n",
    "\n",
    "\n",
    "    for x in range(len(df)):\n",
    "        driver.get(df['url'].iloc[x])\n",
    "\n",
    "        try:\n",
    "            #print(driver.find_element_by_xpath('/html/body/div/div[1]/div/div/table[2]/tbody/tr/td[1]/div/b').text)\n",
    "            driver.find_element_by_xpath('//*[@id=\"bodyContent\"]/table[2]/tbody/tr/td[1]/div/b').click()\n",
    "        except:\n",
    "            pass\n",
    "    \n",
    "        try:\n",
    "            #print(driver.find_element_by_xpath('//*[@id=\"comments\"]/div/table[3]/tbody/tr/td[1]/div/b').text)\n",
    "            driver.find_element_by_xpath('//*[@id=\"comments\"]/div/table[3]/tbody/tr/td[1]/div/b').click()\n",
    "        except:\n",
    "            pass\n",
    "    \n",
    "        try:\n",
    "            #print(driver.find_element_by_xpath('//*[@id=\"bodyContent\"]/table[3]/tbody/tr/td[1]/div/b').text)\n",
    "            driver.find_element_by_xpath('//*[@id=\"bodyContent\"]/table[3]/tbody/tr/td[1]/div/b').click()\n",
    "        except:\n",
    "            pass\n",
    "\n",
    "\n",
    "        driver.implicitly_wait(2)\n",
    "    \n",
    "        DataNodes_info = driver.find_element_by_xpath('//*[@id=\"dnTable\"]').text\n",
    "        #print('-'*60)\n",
    "        title = df['name'].iloc[x]\n",
    "        print(title)\n",
    "    \n",
    "    \n",
    "        #print(DataNodes_info.split('\\n'))\n",
    "        for line in DataNodes_info.split('\\n')[1:]:\n",
    "            driver.implicitly_wait(1)\n",
    "        \n",
    "            try:\n",
    "                name_ = line.split()[0]\n",
    "            except:\n",
    "                name_ = 'nan'\n",
    "            try:\n",
    "                type_ = line.split()[1]\n",
    "            except:\n",
    "                type_ = 'nan'\n",
    "            try:\n",
    "                db_reference_ = line.split()[2]\n",
    "            except:\n",
    "                db_referecen_ = 'nan'\n",
    "\n",
    "            #print(name_, type_, db_reference_)\n",
    "            title_list.append(title)\n",
    "            name_list.append(name_)\n",
    "            type_list.append(type_)\n",
    "            db_ref_list.append(db_reference_)\n",
    "            z+=1\n",
    "            \n",
    "    df_combined = pd.DataFrame([title_list, name_list, type_list, db_ref_list]).T\n",
    "    df_combined.columns = ['title', 'name','type','db_reference']\n",
    "\n",
    "    return df_combined"
   ]
  },
  {
   "cell_type": "code",
   "execution_count": 4,
   "id": "8c5616c5",
   "metadata": {},
   "outputs": [
    {
     "name": "stderr",
     "output_type": "stream",
     "text": [
      "<ipython-input-4-7243717af998>:1: DeprecationWarning: executable_path has been deprecated, please pass in a Service object\n",
      "  driver = webdriver.Chrome('/Users/namu/Desktop/NAMU/chromedriver')\n"
     ]
    }
   ],
   "source": [
    "driver = webdriver.Chrome('/Users/namu/Desktop/NAMU/chromedriver')"
   ]
  },
  {
   "cell_type": "code",
   "execution_count": 5,
   "id": "04adf48d",
   "metadata": {
    "scrolled": true
   },
   "outputs": [
    {
     "name": "stdout",
     "output_type": "stream",
     "text": [
      "< nicotine >\n"
     ]
    },
    {
     "name": "stderr",
     "output_type": "stream",
     "text": [
      "<ipython-input-3-377bfc5cf00d>:16: DeprecationWarning: find_element_by_* commands are deprecated. Please use find_element() instead\n",
      "  driver.find_element_by_xpath('//*[@id=\"bodyContent\"]/table[2]/tbody/tr/td[1]/div/b').click()\n",
      "<ipython-input-3-377bfc5cf00d>:22: DeprecationWarning: find_element_by_* commands are deprecated. Please use find_element() instead\n",
      "  driver.find_element_by_xpath('//*[@id=\"comments\"]/div/table[3]/tbody/tr/td[1]/div/b').click()\n",
      "<ipython-input-3-377bfc5cf00d>:28: DeprecationWarning: find_element_by_* commands are deprecated. Please use find_element() instead\n",
      "  driver.find_element_by_xpath('//*[@id=\"bodyContent\"]/table[3]/tbody/tr/td[1]/div/b').click()\n",
      "<ipython-input-3-377bfc5cf00d>:35: DeprecationWarning: find_element_by_* commands are deprecated. Please use find_element() instead\n",
      "  DataNodes_info = driver.find_element_by_xpath('//*[@id=\"dnTable\"]').text\n"
     ]
    },
    {
     "name": "stdout",
     "output_type": "stream",
     "text": [
      "Nicotine effect on chromaffin cells\n",
      "Nicotine metabolism in liver cells\n",
      "Nicotine effect on dopaminergic neurons\n",
      "Common pathways underlying drug addiction\n",
      "Thermogenesis\n",
      "Phosphodiesterases in neuronal function\n",
      "Phase II - Conjugation of compounds\n",
      "Sudden infant death syndrome (SIDS) susceptibility pathways\n",
      "------------------------------------------------------------\n",
      "< alcohol >\n",
      "Folate-alcohol and cancer pathway hypotheses\n",
      "Ethanol effects on histone modifications\n",
      "Common pathways underlying drug addiction\n",
      "Protein alkylation leading to liver fibrosis\n",
      "Spina bifida\n",
      "One-carbon metabolism\n",
      "Tamoxifen metabolism\n",
      "Metabolism of angiotensinogen to angiotensins\n",
      "1q21.1 copy number variation syndrome\n",
      "Meta pathway lipodystrophy, dyslipidemia and hyperlipidemia\n",
      "Digestion\n",
      "Glycerophospholipid biosynthetic pathway\n",
      "Glycerophospholipid biosynthesis\n",
      "Phase I - Functionalization of compounds\n",
      "------------------------------------------------------------\n",
      "< morphine >\n",
      "Codeine and morphine metabolism\n",
      "Heroin metabolism\n",
      "Common pathways underlying drug addiction\n",
      "Opioid receptor pathways\n",
      "------------------------------------------------------------\n"
     ]
    }
   ],
   "source": [
    "substances = ['nicotine', 'alcohol', 'morphine']\n",
    "genes_all = []\n",
    "for substance in substances:\n",
    "# nicotine pathways for homo sapiens\n",
    "    print('<',substance,'>')\n",
    "    df = api_request(substance, 'Homo sapiens')\n",
    "    df_combined = ele_retrieval(df)\n",
    "    globals() ['df_{}'.format(substance)] = df_combined[(df_combined['type']=='GeneProduct') | (df_combined['type']=='Protein')].drop_duplicates()\n",
    "    k = globals() ['df_{}'.format(substance)][(globals() ['df_{}'.format(substance)]['type']=='GeneProduct') | (globals() ['df_{}'.format(substance)]['type']=='Protein')]\n",
    "    sub_gene = {substance:(list(set(k['name'])))}\n",
    "    genes_all.append(sub_gene)\n",
    "    print('-'*60)"
   ]
  },
  {
   "cell_type": "code",
   "execution_count": null,
   "id": "fee25d72",
   "metadata": {},
   "outputs": [],
   "source": []
  },
  {
   "cell_type": "code",
   "execution_count": 6,
   "id": "1d564263",
   "metadata": {
    "scrolled": true
   },
   "outputs": [
    {
     "name": "stderr",
     "output_type": "stream",
     "text": [
      "<ipython-input-3-377bfc5cf00d>:16: DeprecationWarning: find_element_by_* commands are deprecated. Please use find_element() instead\n",
      "  driver.find_element_by_xpath('//*[@id=\"bodyContent\"]/table[2]/tbody/tr/td[1]/div/b').click()\n",
      "<ipython-input-3-377bfc5cf00d>:22: DeprecationWarning: find_element_by_* commands are deprecated. Please use find_element() instead\n",
      "  driver.find_element_by_xpath('//*[@id=\"comments\"]/div/table[3]/tbody/tr/td[1]/div/b').click()\n",
      "<ipython-input-3-377bfc5cf00d>:28: DeprecationWarning: find_element_by_* commands are deprecated. Please use find_element() instead\n",
      "  driver.find_element_by_xpath('//*[@id=\"bodyContent\"]/table[3]/tbody/tr/td[1]/div/b').click()\n",
      "<ipython-input-3-377bfc5cf00d>:35: DeprecationWarning: find_element_by_* commands are deprecated. Please use find_element() instead\n",
      "  DataNodes_info = driver.find_element_by_xpath('//*[@id=\"dnTable\"]').text\n"
     ]
    },
    {
     "name": "stdout",
     "output_type": "stream",
     "text": [
      "Integrated breast cancer pathway\n",
      "Breast cancer pathway\n",
      "4-hydroxytamoxifen, dexamethasone, and retinoic acids regulation of p27 expression\n",
      "TCA cycle nutrient use and invasiveness of ovarian cancer\n",
      "MFAP5-mediated ovarian cancer cell motility and invasiveness\n",
      "Integrated cancer pathway\n",
      "Integrated lung cancer pathway\n",
      "Retinoblastoma gene in cancer\n",
      "Endometrial cancer\n",
      "Androgen receptor network in prostate cancer\n",
      "miRNA regulation of p53 pathway in prostate cancer\n",
      "miRNA regulation of prostate cancer signaling pathways\n",
      "Gastric cancer network 2\n",
      "Senescence and autophagy in cancer\n",
      "FABP4 in ovarian cancer\n",
      "Bladder cancer\n",
      "Folate-alcohol and cancer pathway hypotheses\n",
      "Cancer immunotherapy by PD-1 blockade\n",
      "Metabolic reprogramming in colon cancer\n",
      "Gastric cancer network 1\n",
      "Small cell lung cancer\n",
      "Ultraconserved region 339 modulation of tumor suppressor microRNAs in cancer\n",
      "Deregulation of Rab and Rab effector genes in bladder cancer\n",
      "MAPK pathway in congenital thyroid cancer\n",
      "Epithelial to mesenchymal transition in colorectal cancer\n",
      "Non-small cell lung cancer\n",
      "Cancer immunotherapy by CTLA4 blockade\n",
      "Tamoxifen metabolism\n",
      "Chromosomal and microsatellite instability in colorectal cancer \n",
      "Role of immune system in pancreatic cancer\n",
      "Interactions of natural killer cells in pancreatic cancer\n",
      "Neural crest cell migration in cancer\n",
      "Modified nucleosides derived from tRNA as urinary cancer markers\n",
      "Toll-like receptor signaling related to MyD88\n",
      "lncRNA in canonical Wnt signaling and colorectal cancer\n",
      "Apoptosis-related network due to altered Notch3 in ovarian cancer\n",
      "MFAP5 effect on permeability and motility of endothelial cells via cytoskeleton rearrangement\n",
      "Model for regulation of MSMP expression in cancer cells and its proangiogenic role in ovarian tumors\n",
      "Fluoropyrimidine activity\n",
      "ncRNAs involved in STAT3 signaling in hepatocellular carcinoma\n",
      "Melatonin metabolism and effects\n",
      "Physico-chemical features and toxicity-associated pathways\n",
      "lncRNA-mediated mechanisms of therapeutic resistance\n",
      "ErbB signaling pathway\n",
      "Netrin-UNC5B signaling pathway\n",
      "ncRNAs involved in Wnt signaling in hepatocellular carcinoma\n",
      "Interactions between immune cells and microRNAs in tumor microenvironment\n",
      "H19 action Rb-E2F1 signaling and CDK-Beta-catenin activity\n",
      "PDGFR-beta pathway\n",
      "miR-509-3p alteration of YAP1/ECM axis\n",
      "NRP1-triggered signaling pathways in pancreatic cancer \n",
      "Photodynamic therapy-induced NFE2L2 (NRF2) survival signaling\n",
      "Photodynamic therapy-induced unfolded protein response\n",
      "Photodynamic therapy-induced AP-1 survival signaling\n",
      "Photodynamic therapy-induced HIF-1 survival signaling\n",
      "Photodynamic therapy-induced NF-kB survival signaling\n",
      "TGF-beta signaling in thyroid cells for epithelial-mesenchymal transition\n",
      "TP53 network\n",
      "Regulation of apoptosis by parathyroid hormone-related protein\n",
      "Amplification and expansion of oncogenic pathways as metastatic traits\n",
      "Hereditary leiomyomatosis and renal cell carcinoma pathway\n",
      "RAC1/PAK1/p38/MMP2 pathway\n",
      "MicroRNA for targeting cancer growth and vascularization in glioblastoma\n",
      "Pathways affected in adenoid cystic carcinoma\n",
      "Inhibition of exosome biogenesis and secretion by Manumycin A in CRPC cells\n",
      "Aflatoxin B1 metabolism\n",
      "Mechanoregulation and pathology of YAP/TAZ via Hippo and non-Hippo mechanisms\n",
      "Extracellular vesicle-mediated signaling in recipient cells\n",
      "CAMKK2 pathway\n",
      "Interactions between LOXL4 and oxidative stress pathway\n",
      "Tumor suppressor activity of SMARCB1\n",
      "Leukocyte-intrinsic Hippo pathway functions\n",
      "MET in type 1 papillary renal cell carcinoma\n",
      "PI3K-Akt signaling pathway\n",
      "GDNF signaling\n",
      "Irinotecan pathway\n",
      "PDGF pathway\n",
      "IL-18 signaling pathway\n",
      "DNA IR-damage and cellular response via ATR\n",
      "Pancreatic adenocarcinoma pathway\n",
      "Aspirin and miRNAs\n",
      "CCL18 signaling pathway\n",
      "Glioblastoma signaling pathways\n",
      "NAD metabolism in oncogene-induced senescence and mitochondrial dysfunction-associated senescence\n",
      "Overview of nanoparticle effects\n",
      "1q21.1 copy number variation syndrome\n",
      "Meta pathway lipodystrophy, dyslipidemia and hyperlipidemia\n",
      "Gastrin signaling pathway\n",
      "Tissue fate map\n",
      "AXL signaling pathway\n",
      "Urotensin-II-mediated signaling pathway\n",
      "Corticotropin-releasing hormone signaling pathway\n",
      "Endothelin pathway\n",
      "Orexin receptor pathway\n",
      "Malignant pleural mesothelioma\n"
     ]
    },
    {
     "data": {
      "text/html": [
       "<div>\n",
       "<style scoped>\n",
       "    .dataframe tbody tr th:only-of-type {\n",
       "        vertical-align: middle;\n",
       "    }\n",
       "\n",
       "    .dataframe tbody tr th {\n",
       "        vertical-align: top;\n",
       "    }\n",
       "\n",
       "    .dataframe thead th {\n",
       "        text-align: right;\n",
       "    }\n",
       "</style>\n",
       "<table border=\"1\" class=\"dataframe\">\n",
       "  <thead>\n",
       "    <tr style=\"text-align: right;\">\n",
       "      <th></th>\n",
       "      <th>title</th>\n",
       "      <th>name</th>\n",
       "      <th>type</th>\n",
       "      <th>db_reference</th>\n",
       "    </tr>\n",
       "  </thead>\n",
       "  <tbody>\n",
       "    <tr>\n",
       "      <th>0</th>\n",
       "      <td>Integrated breast cancer pathway</td>\n",
       "      <td>ABC3G</td>\n",
       "      <td>Protein</td>\n",
       "      <td>Q9HC16</td>\n",
       "    </tr>\n",
       "    <tr>\n",
       "      <th>1</th>\n",
       "      <td>Integrated breast cancer pathway</td>\n",
       "      <td>ABL1</td>\n",
       "      <td>GeneProduct</td>\n",
       "      <td>ENSG00000097007</td>\n",
       "    </tr>\n",
       "    <tr>\n",
       "      <th>2</th>\n",
       "      <td>Integrated breast cancer pathway</td>\n",
       "      <td>AHR</td>\n",
       "      <td>GeneProduct</td>\n",
       "      <td>ENSG00000106546</td>\n",
       "    </tr>\n",
       "    <tr>\n",
       "      <th>3</th>\n",
       "      <td>Integrated breast cancer pathway</td>\n",
       "      <td>AKT1</td>\n",
       "      <td>Protein</td>\n",
       "      <td>P31749</td>\n",
       "    </tr>\n",
       "    <tr>\n",
       "      <th>4</th>\n",
       "      <td>Integrated breast cancer pathway</td>\n",
       "      <td>ALKB1</td>\n",
       "      <td>Protein</td>\n",
       "      <td>Q13686</td>\n",
       "    </tr>\n",
       "    <tr>\n",
       "      <th>...</th>\n",
       "      <td>...</td>\n",
       "      <td>...</td>\n",
       "      <td>...</td>\n",
       "      <td>...</td>\n",
       "    </tr>\n",
       "    <tr>\n",
       "      <th>7175</th>\n",
       "      <td>Malignant pleural mesothelioma</td>\n",
       "      <td>glucose</td>\n",
       "      <td>Metabolite</td>\n",
       "      <td>CHEBI:17234</td>\n",
       "    </tr>\n",
       "    <tr>\n",
       "      <th>7176</th>\n",
       "      <td>Malignant pleural mesothelioma</td>\n",
       "      <td>let-7</td>\n",
       "      <td>Rna</td>\n",
       "      <td>ENSG00000284520</td>\n",
       "    </tr>\n",
       "    <tr>\n",
       "      <th>7177</th>\n",
       "      <td>Malignant pleural mesothelioma</td>\n",
       "      <td>p14ARF</td>\n",
       "      <td>Protein</td>\n",
       "      <td>Q8N726</td>\n",
       "    </tr>\n",
       "    <tr>\n",
       "      <th>7178</th>\n",
       "      <td>Malignant pleural mesothelioma</td>\n",
       "      <td>p16INK4A</td>\n",
       "      <td>GeneProduct</td>\n",
       "      <td>P42771</td>\n",
       "    </tr>\n",
       "    <tr>\n",
       "      <th>7179</th>\n",
       "      <td>Malignant pleural mesothelioma</td>\n",
       "      <td>prostaglandin</td>\n",
       "      <td>E2</td>\n",
       "      <td>Metabolite</td>\n",
       "    </tr>\n",
       "  </tbody>\n",
       "</table>\n",
       "<p>7180 rows × 4 columns</p>\n",
       "</div>"
      ],
      "text/plain": [
       "                                 title           name         type  \\\n",
       "0     Integrated breast cancer pathway          ABC3G      Protein   \n",
       "1     Integrated breast cancer pathway           ABL1  GeneProduct   \n",
       "2     Integrated breast cancer pathway            AHR  GeneProduct   \n",
       "3     Integrated breast cancer pathway           AKT1      Protein   \n",
       "4     Integrated breast cancer pathway          ALKB1      Protein   \n",
       "...                                ...            ...          ...   \n",
       "7175    Malignant pleural mesothelioma        glucose   Metabolite   \n",
       "7176    Malignant pleural mesothelioma          let-7          Rna   \n",
       "7177    Malignant pleural mesothelioma         p14ARF      Protein   \n",
       "7178    Malignant pleural mesothelioma       p16INK4A  GeneProduct   \n",
       "7179    Malignant pleural mesothelioma  prostaglandin           E2   \n",
       "\n",
       "         db_reference  \n",
       "0              Q9HC16  \n",
       "1     ENSG00000097007  \n",
       "2     ENSG00000106546  \n",
       "3              P31749  \n",
       "4              Q13686  \n",
       "...               ...  \n",
       "7175      CHEBI:17234  \n",
       "7176  ENSG00000284520  \n",
       "7177           Q8N726  \n",
       "7178           P42771  \n",
       "7179       Metabolite  \n",
       "\n",
       "[7180 rows x 4 columns]"
      ]
     },
     "execution_count": 6,
     "metadata": {},
     "output_type": "execute_result"
    }
   ],
   "source": [
    "df_bc = api_request('breast cancer', 'Homo sapiens')\n",
    "df_bc \n",
    "\n",
    "# implement selenium function on above df\n",
    "df_bc_combined = ele_retrieval(df_bc)\n",
    "df_bc_combined"
   ]
  },
  {
   "cell_type": "code",
   "execution_count": 7,
   "id": "46d5cca0",
   "metadata": {},
   "outputs": [],
   "source": [
    "df_bc_combined['title'] = df_bc_combined['title'].apply(lambda x : x.lower())\n",
    "df_bc_combined = df_bc_combined[df_bc_combined['title'].str.contains('breast')]"
   ]
  },
  {
   "cell_type": "code",
   "execution_count": 8,
   "id": "672b8c61",
   "metadata": {},
   "outputs": [
    {
     "data": {
      "text/plain": [
       "integrated breast cancer pathway    223\n",
       "breast cancer pathway               168\n",
       "Name: title, dtype: int64"
      ]
     },
     "execution_count": 8,
     "metadata": {},
     "output_type": "execute_result"
    }
   ],
   "source": [
    "df_bc_combined['title'].value_counts()"
   ]
  },
  {
   "cell_type": "markdown",
   "id": "ee7e9880",
   "metadata": {},
   "source": [
    "###### use only GeneProduct and Protein"
   ]
  },
  {
   "cell_type": "code",
   "execution_count": 9,
   "id": "036225d8",
   "metadata": {},
   "outputs": [],
   "source": [
    "df_bc_combined = df_bc_combined[(df_bc_combined['type']=='GeneProduct') | (df_bc_combined['type']=='Protein')]"
   ]
  },
  {
   "cell_type": "code",
   "execution_count": null,
   "id": "59f7b1b2",
   "metadata": {},
   "outputs": [],
   "source": []
  },
  {
   "cell_type": "markdown",
   "id": "7e55b969",
   "metadata": {},
   "source": [
    "###### Drop duplicates in breast cancer pathways (Integrated Breast Cancer Pathway vs. Breast Cancer Pathway)"
   ]
  },
  {
   "cell_type": "code",
   "execution_count": 10,
   "id": "9d732ffd",
   "metadata": {},
   "outputs": [],
   "source": [
    "df_bc_combined = df_bc_combined.drop_duplicates(subset=['name'], keep='first')"
   ]
  },
  {
   "cell_type": "code",
   "execution_count": null,
   "id": "32f0ad3e",
   "metadata": {},
   "outputs": [],
   "source": []
  },
  {
   "cell_type": "markdown",
   "id": "4004897b",
   "metadata": {},
   "source": [
    "# Check DataFrame for each substance + breast cancer"
   ]
  },
  {
   "cell_type": "code",
   "execution_count": 11,
   "id": "a7f52ee1",
   "metadata": {},
   "outputs": [
    {
     "data": {
      "text/html": [
       "<div>\n",
       "<style scoped>\n",
       "    .dataframe tbody tr th:only-of-type {\n",
       "        vertical-align: middle;\n",
       "    }\n",
       "\n",
       "    .dataframe tbody tr th {\n",
       "        vertical-align: top;\n",
       "    }\n",
       "\n",
       "    .dataframe thead th {\n",
       "        text-align: right;\n",
       "    }\n",
       "</style>\n",
       "<table border=\"1\" class=\"dataframe\">\n",
       "  <thead>\n",
       "    <tr style=\"text-align: right;\">\n",
       "      <th></th>\n",
       "      <th>title</th>\n",
       "      <th>name</th>\n",
       "      <th>type</th>\n",
       "      <th>db_reference</th>\n",
       "    </tr>\n",
       "  </thead>\n",
       "  <tbody>\n",
       "    <tr>\n",
       "      <th>0</th>\n",
       "      <td>Nicotine effect on chromaffin cells</td>\n",
       "      <td>CACNA1C</td>\n",
       "      <td>GeneProduct</td>\n",
       "      <td>775</td>\n",
       "    </tr>\n",
       "    <tr>\n",
       "      <th>1</th>\n",
       "      <td>Nicotine effect on chromaffin cells</td>\n",
       "      <td>CACNA1G</td>\n",
       "      <td>GeneProduct</td>\n",
       "      <td>8913</td>\n",
       "    </tr>\n",
       "    <tr>\n",
       "      <th>2</th>\n",
       "      <td>Nicotine effect on chromaffin cells</td>\n",
       "      <td>CHRNA3</td>\n",
       "      <td>GeneProduct</td>\n",
       "      <td>1136</td>\n",
       "    </tr>\n",
       "    <tr>\n",
       "      <th>3</th>\n",
       "      <td>Nicotine effect on chromaffin cells</td>\n",
       "      <td>CHRNB4</td>\n",
       "      <td>GeneProduct</td>\n",
       "      <td>1143</td>\n",
       "    </tr>\n",
       "    <tr>\n",
       "      <th>12</th>\n",
       "      <td>Nicotine metabolism in liver cells</td>\n",
       "      <td>AOX1</td>\n",
       "      <td>GeneProduct</td>\n",
       "      <td>316</td>\n",
       "    </tr>\n",
       "  </tbody>\n",
       "</table>\n",
       "</div>"
      ],
      "text/plain": [
       "                                  title     name         type db_reference\n",
       "0   Nicotine effect on chromaffin cells  CACNA1C  GeneProduct          775\n",
       "1   Nicotine effect on chromaffin cells  CACNA1G  GeneProduct         8913\n",
       "2   Nicotine effect on chromaffin cells   CHRNA3  GeneProduct         1136\n",
       "3   Nicotine effect on chromaffin cells   CHRNB4  GeneProduct         1143\n",
       "12   Nicotine metabolism in liver cells     AOX1  GeneProduct          316"
      ]
     },
     "execution_count": 11,
     "metadata": {},
     "output_type": "execute_result"
    }
   ],
   "source": [
    "df_nicotine[:5]"
   ]
  },
  {
   "cell_type": "code",
   "execution_count": 12,
   "id": "47b0ea56",
   "metadata": {},
   "outputs": [
    {
     "data": {
      "text/plain": [
       "GeneProduct    403\n",
       "Protein        119\n",
       "Name: type, dtype: int64"
      ]
     },
     "execution_count": 12,
     "metadata": {},
     "output_type": "execute_result"
    }
   ],
   "source": [
    "df_nicotine['type'].value_counts()"
   ]
  },
  {
   "cell_type": "code",
   "execution_count": null,
   "id": "3b6d0faf",
   "metadata": {},
   "outputs": [],
   "source": []
  },
  {
   "cell_type": "markdown",
   "id": "46c2918b",
   "metadata": {},
   "source": [
    "###### total number of genes and proteins in pathways reated to nicotine"
   ]
  },
  {
   "cell_type": "code",
   "execution_count": 13,
   "id": "682d6a6a",
   "metadata": {},
   "outputs": [
    {
     "data": {
      "text/plain": [
       "471"
      ]
     },
     "execution_count": 13,
     "metadata": {},
     "output_type": "execute_result"
    }
   ],
   "source": [
    "len(list(set(df_nicotine['name'])))"
   ]
  },
  {
   "cell_type": "code",
   "execution_count": null,
   "id": "44f70b94",
   "metadata": {},
   "outputs": [],
   "source": []
  },
  {
   "cell_type": "code",
   "execution_count": 14,
   "id": "4f411621",
   "metadata": {},
   "outputs": [
    {
     "data": {
      "text/html": [
       "<div>\n",
       "<style scoped>\n",
       "    .dataframe tbody tr th:only-of-type {\n",
       "        vertical-align: middle;\n",
       "    }\n",
       "\n",
       "    .dataframe tbody tr th {\n",
       "        vertical-align: top;\n",
       "    }\n",
       "\n",
       "    .dataframe thead th {\n",
       "        text-align: right;\n",
       "    }\n",
       "</style>\n",
       "<table border=\"1\" class=\"dataframe\">\n",
       "  <thead>\n",
       "    <tr style=\"text-align: right;\">\n",
       "      <th></th>\n",
       "      <th>title</th>\n",
       "      <th>name</th>\n",
       "      <th>type</th>\n",
       "      <th>db_reference</th>\n",
       "    </tr>\n",
       "  </thead>\n",
       "  <tbody>\n",
       "    <tr>\n",
       "      <th>2</th>\n",
       "      <td>Folate-alcohol and cancer pathway hypotheses</td>\n",
       "      <td>ADH5</td>\n",
       "      <td>GeneProduct</td>\n",
       "      <td>ENSG00000197894</td>\n",
       "    </tr>\n",
       "    <tr>\n",
       "      <th>3</th>\n",
       "      <td>Folate-alcohol and cancer pathway hypotheses</td>\n",
       "      <td>ALDH1A1</td>\n",
       "      <td>GeneProduct</td>\n",
       "      <td>216</td>\n",
       "    </tr>\n",
       "    <tr>\n",
       "      <th>4</th>\n",
       "      <td>Folate-alcohol and cancer pathway hypotheses</td>\n",
       "      <td>ALDH1L1</td>\n",
       "      <td>GeneProduct</td>\n",
       "      <td>10840</td>\n",
       "    </tr>\n",
       "    <tr>\n",
       "      <th>7</th>\n",
       "      <td>Folate-alcohol and cancer pathway hypotheses</td>\n",
       "      <td>C/EBPB</td>\n",
       "      <td>GeneProduct</td>\n",
       "      <td>1051</td>\n",
       "    </tr>\n",
       "    <tr>\n",
       "      <th>8</th>\n",
       "      <td>Folate-alcohol and cancer pathway hypotheses</td>\n",
       "      <td>CBS</td>\n",
       "      <td>GeneProduct</td>\n",
       "      <td>875</td>\n",
       "    </tr>\n",
       "  </tbody>\n",
       "</table>\n",
       "</div>"
      ],
      "text/plain": [
       "                                          title     name         type  \\\n",
       "2  Folate-alcohol and cancer pathway hypotheses     ADH5  GeneProduct   \n",
       "3  Folate-alcohol and cancer pathway hypotheses  ALDH1A1  GeneProduct   \n",
       "4  Folate-alcohol and cancer pathway hypotheses  ALDH1L1  GeneProduct   \n",
       "7  Folate-alcohol and cancer pathway hypotheses   C/EBPB  GeneProduct   \n",
       "8  Folate-alcohol and cancer pathway hypotheses      CBS  GeneProduct   \n",
       "\n",
       "      db_reference  \n",
       "2  ENSG00000197894  \n",
       "3              216  \n",
       "4            10840  \n",
       "7             1051  \n",
       "8              875  "
      ]
     },
     "execution_count": 14,
     "metadata": {},
     "output_type": "execute_result"
    }
   ],
   "source": [
    "df_alcohol[:5]"
   ]
  },
  {
   "cell_type": "code",
   "execution_count": 15,
   "id": "887f82d2",
   "metadata": {},
   "outputs": [
    {
     "data": {
      "text/plain": [
       "Protein        291\n",
       "GeneProduct    178\n",
       "Name: type, dtype: int64"
      ]
     },
     "execution_count": 15,
     "metadata": {},
     "output_type": "execute_result"
    }
   ],
   "source": [
    "df_alcohol['type'].value_counts()"
   ]
  },
  {
   "cell_type": "markdown",
   "id": "afeff130",
   "metadata": {},
   "source": [
    "###### total number of genes and proteins in pathways reated to nicotine"
   ]
  },
  {
   "cell_type": "code",
   "execution_count": 16,
   "id": "3623a24e",
   "metadata": {},
   "outputs": [
    {
     "data": {
      "text/plain": [
       "420"
      ]
     },
     "execution_count": 16,
     "metadata": {},
     "output_type": "execute_result"
    }
   ],
   "source": [
    "len(list(set(df_alcohol['name'])))"
   ]
  },
  {
   "cell_type": "code",
   "execution_count": null,
   "id": "7fa528b6",
   "metadata": {},
   "outputs": [],
   "source": []
  },
  {
   "cell_type": "code",
   "execution_count": 17,
   "id": "63b15494",
   "metadata": {},
   "outputs": [
    {
     "data": {
      "text/html": [
       "<div>\n",
       "<style scoped>\n",
       "    .dataframe tbody tr th:only-of-type {\n",
       "        vertical-align: middle;\n",
       "    }\n",
       "\n",
       "    .dataframe tbody tr th {\n",
       "        vertical-align: top;\n",
       "    }\n",
       "\n",
       "    .dataframe thead th {\n",
       "        text-align: right;\n",
       "    }\n",
       "</style>\n",
       "<table border=\"1\" class=\"dataframe\">\n",
       "  <thead>\n",
       "    <tr style=\"text-align: right;\">\n",
       "      <th></th>\n",
       "      <th>title</th>\n",
       "      <th>name</th>\n",
       "      <th>type</th>\n",
       "      <th>db_reference</th>\n",
       "    </tr>\n",
       "  </thead>\n",
       "  <tbody>\n",
       "    <tr>\n",
       "      <th>0</th>\n",
       "      <td>Codeine and morphine metabolism</td>\n",
       "      <td>ABCB1</td>\n",
       "      <td>GeneProduct</td>\n",
       "      <td>5243</td>\n",
       "    </tr>\n",
       "    <tr>\n",
       "      <th>1</th>\n",
       "      <td>Codeine and morphine metabolism</td>\n",
       "      <td>ABCC2</td>\n",
       "      <td>GeneProduct</td>\n",
       "      <td>1244</td>\n",
       "    </tr>\n",
       "    <tr>\n",
       "      <th>2</th>\n",
       "      <td>Codeine and morphine metabolism</td>\n",
       "      <td>ABCC3</td>\n",
       "      <td>GeneProduct</td>\n",
       "      <td>8714</td>\n",
       "    </tr>\n",
       "    <tr>\n",
       "      <th>3</th>\n",
       "      <td>Codeine and morphine metabolism</td>\n",
       "      <td>CYP2C8</td>\n",
       "      <td>Protein</td>\n",
       "      <td>ENSG00000138115</td>\n",
       "    </tr>\n",
       "    <tr>\n",
       "      <th>4</th>\n",
       "      <td>Codeine and morphine metabolism</td>\n",
       "      <td>CYP2D6</td>\n",
       "      <td>GeneProduct</td>\n",
       "      <td>1565</td>\n",
       "    </tr>\n",
       "  </tbody>\n",
       "</table>\n",
       "</div>"
      ],
      "text/plain": [
       "                             title    name         type     db_reference\n",
       "0  Codeine and morphine metabolism   ABCB1  GeneProduct             5243\n",
       "1  Codeine and morphine metabolism   ABCC2  GeneProduct             1244\n",
       "2  Codeine and morphine metabolism   ABCC3  GeneProduct             8714\n",
       "3  Codeine and morphine metabolism  CYP2C8      Protein  ENSG00000138115\n",
       "4  Codeine and morphine metabolism  CYP2D6  GeneProduct             1565"
      ]
     },
     "execution_count": 17,
     "metadata": {},
     "output_type": "execute_result"
    }
   ],
   "source": [
    "df_morphine[:5]"
   ]
  },
  {
   "cell_type": "code",
   "execution_count": 18,
   "id": "eb7ed44c",
   "metadata": {},
   "outputs": [
    {
     "data": {
      "text/plain": [
       "Protein        128\n",
       "GeneProduct     90\n",
       "Name: type, dtype: int64"
      ]
     },
     "execution_count": 18,
     "metadata": {},
     "output_type": "execute_result"
    }
   ],
   "source": [
    "df_morphine['type'].value_counts()"
   ]
  },
  {
   "cell_type": "markdown",
   "id": "b8649373",
   "metadata": {},
   "source": [
    "###### total number of genes and proteins in pathways reated to nicotine"
   ]
  },
  {
   "cell_type": "code",
   "execution_count": 19,
   "id": "f65d78bc",
   "metadata": {},
   "outputs": [
    {
     "data": {
      "text/plain": [
       "195"
      ]
     },
     "execution_count": 19,
     "metadata": {},
     "output_type": "execute_result"
    }
   ],
   "source": [
    "len(list(set(df_morphine['name'])))"
   ]
  },
  {
   "cell_type": "code",
   "execution_count": null,
   "id": "bbf2972d",
   "metadata": {},
   "outputs": [],
   "source": []
  },
  {
   "cell_type": "code",
   "execution_count": 20,
   "id": "e359bb92",
   "metadata": {},
   "outputs": [
    {
     "data": {
      "text/html": [
       "<div>\n",
       "<style scoped>\n",
       "    .dataframe tbody tr th:only-of-type {\n",
       "        vertical-align: middle;\n",
       "    }\n",
       "\n",
       "    .dataframe tbody tr th {\n",
       "        vertical-align: top;\n",
       "    }\n",
       "\n",
       "    .dataframe thead th {\n",
       "        text-align: right;\n",
       "    }\n",
       "</style>\n",
       "<table border=\"1\" class=\"dataframe\">\n",
       "  <thead>\n",
       "    <tr style=\"text-align: right;\">\n",
       "      <th></th>\n",
       "      <th>title</th>\n",
       "      <th>name</th>\n",
       "      <th>type</th>\n",
       "      <th>db_reference</th>\n",
       "    </tr>\n",
       "  </thead>\n",
       "  <tbody>\n",
       "    <tr>\n",
       "      <th>0</th>\n",
       "      <td>integrated breast cancer pathway</td>\n",
       "      <td>ABC3G</td>\n",
       "      <td>Protein</td>\n",
       "      <td>Q9HC16</td>\n",
       "    </tr>\n",
       "    <tr>\n",
       "      <th>1</th>\n",
       "      <td>integrated breast cancer pathway</td>\n",
       "      <td>ABL1</td>\n",
       "      <td>GeneProduct</td>\n",
       "      <td>ENSG00000097007</td>\n",
       "    </tr>\n",
       "    <tr>\n",
       "      <th>2</th>\n",
       "      <td>integrated breast cancer pathway</td>\n",
       "      <td>AHR</td>\n",
       "      <td>GeneProduct</td>\n",
       "      <td>ENSG00000106546</td>\n",
       "    </tr>\n",
       "    <tr>\n",
       "      <th>3</th>\n",
       "      <td>integrated breast cancer pathway</td>\n",
       "      <td>AKT1</td>\n",
       "      <td>Protein</td>\n",
       "      <td>P31749</td>\n",
       "    </tr>\n",
       "    <tr>\n",
       "      <th>4</th>\n",
       "      <td>integrated breast cancer pathway</td>\n",
       "      <td>ALKB1</td>\n",
       "      <td>Protein</td>\n",
       "      <td>Q13686</td>\n",
       "    </tr>\n",
       "  </tbody>\n",
       "</table>\n",
       "</div>"
      ],
      "text/plain": [
       "                              title   name         type     db_reference\n",
       "0  integrated breast cancer pathway  ABC3G      Protein           Q9HC16\n",
       "1  integrated breast cancer pathway   ABL1  GeneProduct  ENSG00000097007\n",
       "2  integrated breast cancer pathway    AHR  GeneProduct  ENSG00000106546\n",
       "3  integrated breast cancer pathway   AKT1      Protein           P31749\n",
       "4  integrated breast cancer pathway  ALKB1      Protein           Q13686"
      ]
     },
     "execution_count": 20,
     "metadata": {},
     "output_type": "execute_result"
    }
   ],
   "source": [
    "df_bc_combined[:5]"
   ]
  },
  {
   "cell_type": "code",
   "execution_count": 21,
   "id": "7faca70e",
   "metadata": {},
   "outputs": [
    {
     "data": {
      "text/plain": [
       "GeneProduct    197\n",
       "Protein        103\n",
       "Name: type, dtype: int64"
      ]
     },
     "execution_count": 21,
     "metadata": {},
     "output_type": "execute_result"
    }
   ],
   "source": [
    "df_bc_combined['type'].value_counts()"
   ]
  },
  {
   "cell_type": "markdown",
   "id": "22ea6b13",
   "metadata": {},
   "source": [
    "###### total number of genes and proteins in pathways reated to nicotine"
   ]
  },
  {
   "cell_type": "code",
   "execution_count": 22,
   "id": "a429888d",
   "metadata": {},
   "outputs": [
    {
     "data": {
      "text/plain": [
       "300"
      ]
     },
     "execution_count": 22,
     "metadata": {},
     "output_type": "execute_result"
    }
   ],
   "source": [
    "len(list(set(df_bc_combined['name'])))"
   ]
  },
  {
   "cell_type": "code",
   "execution_count": null,
   "id": "3aaa6e35",
   "metadata": {},
   "outputs": [],
   "source": []
  },
  {
   "cell_type": "markdown",
   "id": "d65e9fbf",
   "metadata": {},
   "source": [
    "# dictionary including the frequency of genes in each dataframe"
   ]
  },
  {
   "cell_type": "code",
   "execution_count": 23,
   "id": "76476fe4",
   "metadata": {},
   "outputs": [],
   "source": [
    "bc_dict = dict(df_bc_combined['name'].value_counts())\n",
    "morphine_dict = dict(df_morphine['name'].value_counts())\n",
    "alcohol_dict = dict(df_alcohol['name'].value_counts())\n",
    "nicotine_dict = dict(df_nicotine['name'].value_counts())"
   ]
  },
  {
   "cell_type": "code",
   "execution_count": null,
   "id": "98628fa7",
   "metadata": {},
   "outputs": [],
   "source": []
  },
  {
   "cell_type": "markdown",
   "id": "056dbfb3",
   "metadata": {},
   "source": [
    "# use genes or proteins that are mentioned at least twice (for breast cancer, use all of them)"
   ]
  },
  {
   "cell_type": "code",
   "execution_count": 40,
   "id": "a78cb823",
   "metadata": {},
   "outputs": [
    {
     "name": "stdout",
     "output_type": "stream",
     "text": [
      "ER\n",
      "AURKA\n",
      "FOXO1\n",
      "CTNNB1\n",
      "NCOA3\n",
      "MAP2K2\n",
      "GDI\n",
      "CDH1\n",
      "HDAC1\n",
      "cyc-D\n",
      "TGFR2\n",
      "MRE11A\n",
      "MAPK3\n",
      "FGF20\n",
      "SELK\n",
      "PPAR\n",
      "P85\n",
      "DHT\n",
      "MAPK1\n",
      "CETN3\n",
      "NF1\n",
      "NBN\n",
      "ATF1\n",
      "BRCA2\n",
      "FGF18\n",
      "CIP1\n",
      "CYP19A1\n",
      "RAF\n",
      "AKT3\n",
      "GR\n",
      "RASGEF1A\n",
      "PKCB1\n",
      "NFKB2\n",
      "P53\n",
      "MSH6\n",
      "ERBB2\n",
      "SMAD4\n",
      "HEY2\n",
      "fra-1\n",
      "PLK3CA\n",
      "ODC1\n",
      "IGF1\n",
      "P13K\n",
      "AKT1\n",
      "CDK2\n",
      "SMAD7\n",
      "FGF4\n",
      "TCF7L1\n",
      "MPIP1\n",
      "GADD45A\n",
      "ABL1\n",
      "RAC1\n",
      "CDC42\n",
      "GCR\n",
      "DVL1\n",
      "RALA\n",
      "CERK\n",
      "DLL4\n",
      "DLL1\n",
      "FLIP1\n",
      "DDB2\n",
      "TCF7L2\n",
      "WNT7B\n",
      "ATM\n",
      "BAK1\n",
      "NOXA1\n",
      "GADD45B\n",
      "WNT2\n",
      "AKT2\n",
      "GSK3B\n",
      "PARP1\n",
      "LRP5\n",
      "RPS6KB1\n",
      "CSNK2B\n",
      "NRAS\n",
      "MDM2\n",
      "TCF7\n",
      "FGF23\n",
      "WNT10B\n",
      "CSNK2A3\n",
      "BAD\n",
      "NCOA1\n",
      "CASP8\n",
      "GADD45G\n",
      "CSNK1A1\n",
      "JAK1\n",
      "CCND1\n",
      "CASP9\n",
      "FGF2\n",
      "DLL3\n",
      "FZD4\n",
      "MMP1\n",
      "WNT3A\n",
      "PLK1\n",
      "APC\n",
      "Q8NBS1\n",
      "FGF8\n",
      "MAPKs\n",
      "CBP\n",
      "FGF16\n",
      "SMAD6\n",
      "SOS2\n",
      "JAG2\n",
      "P13\n",
      "SHC1\n",
      "HEY1\n",
      "DVL2\n",
      "HES1\n",
      "CHK1\n",
      "CREB\n",
      "TP53\n",
      "HDAC1/HDAC2\n",
      "SMAD2\n",
      "AR\n",
      "MRE11\n",
      "KRAS\n",
      "STAT1\n",
      "CDKN1A\n",
      "TAK1L\n",
      "NOTCH4\n",
      "RHEB\n",
      "SP1\n",
      "TFPI\n",
      "UBP15\n",
      "GSK3A\n",
      "STK11\n",
      "BRCA1\n",
      "SHC3\n",
      "PTEN\n",
      "XRCC3\n",
      "FGF17\n",
      "PAK1\n",
      "TRADD\n",
      "PLK3\n",
      "DVL3\n",
      "HEYL\n",
      "FZD1\n",
      "BCL2\n",
      "BACH1\n",
      "DAG1\n",
      "FGF19\n",
      "JKIP1\n",
      "NFKB1\n",
      "FZD3\n",
      "P85A\n",
      "FGF7\n",
      "HIPK2\n",
      "FOS\n",
      "HES5\n",
      "APC2\n",
      "ITPKC\n",
      "FZD7\n",
      "E2F1\n",
      "BMPR1A\n",
      "FGF1\n",
      "PIK3R3\n",
      "MPIP2\n",
      "RHO\n",
      "TSC2\n",
      "PR\n",
      "VEGFA\n",
      "EGF\n",
      "SOS1\n",
      "GRB2\n",
      "CDC25A\n",
      "CHK2\n",
      "PHB\n",
      "KIT\n",
      "WNT11\n",
      "NCOA2\n",
      "MYC\n",
      "FZD8\n",
      "SHC2\n",
      "CDK6\n",
      "ZMIZ1\n",
      "ESR2\n",
      "ARAF\n",
      "WNT7A\n",
      "IGF1R\n",
      "SMEK1\n",
      "IPKA\n",
      "ERK\n",
      "RAP1A\n",
      "PGR\n",
      "LEF1\n",
      "BAX\n",
      "PIK3R1\n",
      "UBP21\n",
      "FADD\n",
      "RB1\n",
      "WNT3\n",
      "RAF1\n",
      "UBIM\n",
      "GRN\n",
      "ESR1\n",
      "RAD54L\n",
      "FRAT2\n",
      "MYT1\n",
      "FZD10\n",
      "BLM\n",
      "MSH2\n",
      "ATR\n",
      "E2F2\n",
      "FGF10\n",
      "Protein\n",
      "NOTCH1\n",
      "WNT4\n",
      "MTOR\n",
      "ERAL1\n",
      "SMEK2\n",
      "WNT1\n",
      "MAP3K13\n",
      "WNT16\n",
      "BAK\n",
      "WNT2B\n",
      "CSNK2A2\n",
      "POLK\n",
      "NOTCH3\n",
      "PML\n",
      "ANXA1\n",
      "TCF/LEF\n",
      "RALGAPA1\n",
      "WNT6\n",
      "SMAD3\n",
      "SIRT1\n",
      "BRAF\n",
      "RRAS\n",
      "EGFR\n",
      "SMAD1\n",
      "FZD5\n",
      "TSC1\n",
      "PPRB/RB\n",
      "HRAS\n",
      "CSNK1A1L\n",
      "AXIN2\n",
      "CERK1\n",
      "CTNB1\n",
      "FZD2\n",
      "EP300\n",
      "FGF6\n",
      "TNFSF11\n",
      "FLT4\n",
      "RAD50\n",
      "SHC4\n",
      "CDK4\n",
      "FGF9\n",
      "RPS6KB2\n",
      "RAD51\n",
      "MAP2K1\n",
      "FZD6\n",
      "E2F3\n",
      "FZD9\n",
      "CSNK1D\n",
      "FGF22\n",
      "AXIN1\n",
      "ABC3G\n",
      "RASGRP3\n",
      "BMPR2\n",
      "ZN655\n",
      "ANDR\n",
      "FOSL2\n",
      "IKKA\n",
      "DNA\n",
      "FGF5\n",
      "WNT5B\n",
      "WEE1\n",
      "WNT10A\n",
      "FGF3\n",
      "P38\n",
      "UBP16\n",
      "RPP38\n",
      "PIK3CD\n",
      "FGF21\n",
      "IRS1\n",
      "FRAT1\n",
      "JUN\n",
      "CDK7\n",
      "BID\n",
      "CSNK2A1\n",
      "DCAKD\n",
      "PIAS1\n",
      "PIK3R2\n",
      "SKP1\n",
      "NAB1\n",
      "UBE2F\n",
      "TGFR1\n",
      "AHR\n",
      "MAX\n",
      "BARD1\n",
      "AQP73\n",
      "CASP3\n",
      "ALKB1\n",
      "TAB1\n",
      "WNT5A\n",
      "FGFR1\n",
      "LRP6\n",
      "SMCA4\n",
      "IMPA1\n",
      "PIK3CA\n",
      "NOTCH2\n"
     ]
    }
   ],
   "source": [
    "filtered_bc = []\n",
    "for x,y in bc_dict.items():\n",
    "    if y>=1:\n",
    "        print(x)\n",
    "        filtered_bc.append(x)"
   ]
  },
  {
   "cell_type": "code",
   "execution_count": 41,
   "id": "a3bd6000",
   "metadata": {},
   "outputs": [
    {
     "name": "stdout",
     "output_type": "stream",
     "text": [
      "300\n"
     ]
    }
   ],
   "source": [
    "print(len(filtered_bc))"
   ]
  },
  {
   "cell_type": "code",
   "execution_count": null,
   "id": "ce0ccfa2",
   "metadata": {},
   "outputs": [],
   "source": []
  },
  {
   "cell_type": "code",
   "execution_count": 27,
   "id": "0a6b13da",
   "metadata": {},
   "outputs": [
    {
     "name": "stdout",
     "output_type": "stream",
     "text": [
      "PRKCG\n",
      "CYP3A4\n",
      "CREB1\n",
      "PRKCA\n",
      "GNAI2\n",
      "RGS4\n",
      "PRKCE\n",
      "BDNF\n",
      "MAPK9\n",
      "CAMK2A\n",
      "RAC1\n",
      "OPRM1\n",
      "ADCY1\n",
      "GRIN2A\n",
      "KDR\n",
      "E2F1\n",
      "GRIN1\n",
      "RGS9\n",
      "PRKCZ\n",
      "ADCY8\n",
      "OPRL1\n",
      "RAF1\n"
     ]
    }
   ],
   "source": [
    "filtered_morphine = []\n",
    "for x,y in morphine_dict.items():\n",
    "    if y>1:\n",
    "        filtered_morphine.append(x)\n",
    "        print(x)"
   ]
  },
  {
   "cell_type": "code",
   "execution_count": 29,
   "id": "5c5cf31d",
   "metadata": {},
   "outputs": [
    {
     "name": "stdout",
     "output_type": "stream",
     "text": [
      "['PRKCG', 'CYP3A4', 'CREB1', 'PRKCA', 'GNAI2', 'RGS4', 'PRKCE', 'BDNF', 'MAPK9', 'CAMK2A', 'RAC1', 'OPRM1', 'ADCY1', 'GRIN2A', 'KDR', 'E2F1', 'GRIN1', 'RGS9', 'PRKCZ', 'ADCY8', 'OPRL1', 'RAF1']\n",
      "22\n"
     ]
    }
   ],
   "source": [
    "print(filtered_morphine)\n",
    "print(len(filtered_morphine))"
   ]
  },
  {
   "cell_type": "markdown",
   "id": "ddce60ef",
   "metadata": {},
   "source": [
    "###### 22 genes + proteins that are mentioned in multiple pathways related to morphine"
   ]
  },
  {
   "cell_type": "code",
   "execution_count": null,
   "id": "e0e098b9",
   "metadata": {},
   "outputs": [],
   "source": []
  },
  {
   "cell_type": "code",
   "execution_count": 30,
   "id": "008bba4c",
   "metadata": {},
   "outputs": [
    {
     "name": "stdout",
     "output_type": "stream",
     "text": [
      "MTR\n",
      "CYP2E1\n",
      "MTHFR\n",
      "AHCY\n",
      "MAT1A\n",
      "ALDH1A1\n",
      "MTRR\n",
      "CYP2A6\n",
      "CYP1B1\n",
      "CYP3A4\n",
      "CYP2C8\n",
      "ADH1A\n",
      "ADH1C\n",
      "TYMS\n",
      "DNMT1\n",
      "ALPI\n",
      "CYP2D6\n",
      "ADH5\n",
      "DNMT3b\n",
      "ACSS2\n",
      "CYP1A2\n",
      "GPAT2\n",
      "ACP6\n",
      "SHMT1\n",
      "ALDH1L1\n",
      "CYP1A1\n",
      "CYP2C19\n",
      "FMO3\n",
      "KIAA0828\n",
      "MTHFD1\n",
      "CYP3A5\n",
      "FMO1\n",
      "DNMT3a\n",
      "MAT2B\n",
      "DHFR\n",
      "ALDH2\n",
      "CES1\n",
      "ADH1B\n",
      "CYP2C9\n",
      "CREB1\n"
     ]
    }
   ],
   "source": [
    "filtered_alcohol = []\n",
    "for x,y in alcohol_dict.items():\n",
    "    if y>1:\n",
    "        filtered_alcohol.append(x)\n",
    "        print(x)"
   ]
  },
  {
   "cell_type": "code",
   "execution_count": 31,
   "id": "b9e63ba6",
   "metadata": {},
   "outputs": [
    {
     "name": "stdout",
     "output_type": "stream",
     "text": [
      "['MTR', 'CYP2E1', 'MTHFR', 'AHCY', 'MAT1A', 'ALDH1A1', 'MTRR', 'CYP2A6', 'CYP1B1', 'CYP3A4', 'CYP2C8', 'ADH1A', 'ADH1C', 'TYMS', 'DNMT1', 'ALPI', 'CYP2D6', 'ADH5', 'DNMT3b', 'ACSS2', 'CYP1A2', 'GPAT2', 'ACP6', 'SHMT1', 'ALDH1L1', 'CYP1A1', 'CYP2C19', 'FMO3', 'KIAA0828', 'MTHFD1', 'CYP3A5', 'FMO1', 'DNMT3a', 'MAT2B', 'DHFR', 'ALDH2', 'CES1', 'ADH1B', 'CYP2C9', 'CREB1']\n",
      "40\n"
     ]
    }
   ],
   "source": [
    "print(filtered_alcohol)\n",
    "print(len(filtered_alcohol))"
   ]
  },
  {
   "cell_type": "markdown",
   "id": "06c886d9",
   "metadata": {},
   "source": [
    "###### 40 genes + proteins that are mentioned in multiple pathways related to alcohol"
   ]
  },
  {
   "cell_type": "code",
   "execution_count": null,
   "id": "7b62f0da",
   "metadata": {},
   "outputs": [],
   "source": []
  },
  {
   "cell_type": "code",
   "execution_count": 32,
   "id": "4d903ad7",
   "metadata": {
    "scrolled": true
   },
   "outputs": [
    {
     "name": "stdout",
     "output_type": "stream",
     "text": [
      "PRKACA\n",
      "CREB1\n",
      "ADCY2\n",
      "GRIN1\n",
      "ADCY8\n",
      "DRD2\n",
      "PRKACB\n",
      "ADCY1\n",
      "DRD4\n",
      "ACTB\n",
      "HES1\n",
      "CPT1A\n",
      "CHRNB2\n",
      "DRD1\n",
      "CHRNB4\n",
      "UGT1A9\n",
      "ADCY4\n",
      "ADCY9\n",
      "YWHAG\n",
      "REST\n",
      "ADCY5\n",
      "NR3C1\n",
      "ADCY10\n",
      "DDC\n",
      "CHRNA3\n",
      "UGT1A4\n",
      "ADCY6\n",
      "NFKB1\n",
      "ADCY7\n",
      "GRIN2A\n",
      "ACTG1\n",
      "PPARGC1A\n",
      "CHRNA7\n",
      "CHRNA4\n",
      "PPP1CA\n",
      "ADCY3\n",
      "TH\n",
      "PRKACG\n",
      "GRIA1\n",
      "FMO3\n",
      "SP1\n"
     ]
    }
   ],
   "source": [
    "filtered_nicotine = []\n",
    "for x,y in nicotine_dict.items():\n",
    "    if y>1:\n",
    "        filtered_nicotine.append(x)\n",
    "        print(x)"
   ]
  },
  {
   "cell_type": "code",
   "execution_count": 33,
   "id": "8116936a",
   "metadata": {},
   "outputs": [
    {
     "name": "stdout",
     "output_type": "stream",
     "text": [
      "['PRKACA', 'CREB1', 'ADCY2', 'GRIN1', 'ADCY8', 'DRD2', 'PRKACB', 'ADCY1', 'DRD4', 'ACTB', 'HES1', 'CPT1A', 'CHRNB2', 'DRD1', 'CHRNB4', 'UGT1A9', 'ADCY4', 'ADCY9', 'YWHAG', 'REST', 'ADCY5', 'NR3C1', 'ADCY10', 'DDC', 'CHRNA3', 'UGT1A4', 'ADCY6', 'NFKB1', 'ADCY7', 'GRIN2A', 'ACTG1', 'PPARGC1A', 'CHRNA7', 'CHRNA4', 'PPP1CA', 'ADCY3', 'TH', 'PRKACG', 'GRIA1', 'FMO3', 'SP1']\n",
      "41\n"
     ]
    }
   ],
   "source": [
    "print(filtered_nicotine)\n",
    "print(len(filtered_nicotine))"
   ]
  },
  {
   "cell_type": "markdown",
   "id": "2c8460f7",
   "metadata": {},
   "source": [
    "###### 41 genes + proteins that are mentioned in multiple pathways related to nicotine"
   ]
  },
  {
   "cell_type": "code",
   "execution_count": null,
   "id": "7cbb20c3",
   "metadata": {},
   "outputs": [],
   "source": []
  },
  {
   "cell_type": "markdown",
   "id": "21baeb24",
   "metadata": {},
   "source": [
    "# Full list of genes + proteins"
   ]
  },
  {
   "cell_type": "code",
   "execution_count": 34,
   "id": "292e5c1d",
   "metadata": {},
   "outputs": [
    {
     "name": "stdout",
     "output_type": "stream",
     "text": [
      "<Breast Cancer>\n",
      "['ER', 'AURKA', 'FOXO1', 'CTNNB1', 'NCOA3', 'MAP2K2', 'GDI', 'CDH1', 'HDAC1', 'cyc-D', 'TGFR2', 'MRE11A', 'MAPK3', 'FGF20', 'SELK', 'PPAR', 'P85', 'DHT', 'MAPK1', 'CETN3', 'NF1', 'NBN', 'ATF1', 'BRCA2', 'FGF18', 'CIP1', 'CYP19A1', 'RAF', 'AKT3', 'GR', 'RASGEF1A', 'PKCB1', 'NFKB2', 'P53', 'MSH6', 'ERBB2', 'SMAD4', 'HEY2', 'fra-1', 'PLK3CA', 'ODC1', 'IGF1', 'P13K', 'AKT1', 'CDK2', 'SMAD7', 'FGF4', 'TCF7L1', 'MPIP1', 'GADD45A', 'ABL1', 'RAC1', 'CDC42', 'GCR', 'DVL1', 'RALA', 'CERK', 'DLL4', 'DLL1', 'FLIP1', 'DDB2', 'TCF7L2', 'WNT7B', 'ATM', 'BAK1', 'NOXA1', 'GADD45B', 'WNT2', 'AKT2', 'GSK3B', 'PARP1', 'LRP5', 'RPS6KB1', 'CSNK2B', 'NRAS', 'MDM2', 'TCF7', 'FGF23', 'WNT10B', 'CSNK2A3', 'BAD', 'NCOA1', 'CASP8', 'GADD45G', 'CSNK1A1', 'JAK1', 'CCND1', 'CASP9', 'FGF2', 'DLL3', 'FZD4', 'MMP1', 'WNT3A', 'PLK1', 'APC', 'Q8NBS1', 'FGF8', 'MAPKs', 'CBP', 'FGF16', 'SMAD6', 'SOS2', 'JAG2', 'P13', 'SHC1', 'HEY1', 'DVL2', 'HES1', 'CHK1', 'CREB', 'TP53', 'HDAC1/HDAC2', 'SMAD2', 'AR', 'MRE11', 'KRAS', 'STAT1', 'CDKN1A', 'TAK1L', 'NOTCH4', 'RHEB', 'SP1', 'TFPI', 'UBP15', 'GSK3A', 'STK11', 'BRCA1', 'SHC3', 'PTEN', 'XRCC3', 'FGF17', 'PAK1', 'TRADD', 'PLK3', 'DVL3', 'HEYL', 'FZD1', 'BCL2', 'BACH1', 'DAG1', 'FGF19', 'JKIP1', 'NFKB1', 'FZD3', 'P85A', 'FGF7', 'HIPK2', 'FOS', 'HES5', 'APC2', 'ITPKC', 'FZD7', 'E2F1', 'BMPR1A', 'FGF1', 'PIK3R3', 'MPIP2', 'RHO', 'TSC2', 'PR', 'VEGFA', 'EGF', 'SOS1', 'GRB2', 'CDC25A', 'CHK2', 'PHB', 'KIT', 'WNT11', 'NCOA2', 'MYC', 'FZD8', 'SHC2', 'CDK6', 'ZMIZ1', 'ESR2', 'ARAF', 'WNT7A', 'IGF1R', 'SMEK1', 'IPKA', 'ERK', 'RAP1A', 'PGR', 'LEF1', 'BAX', 'PIK3R1', 'UBP21', 'FADD', 'RB1', 'WNT3', 'RAF1', 'UBIM', 'GRN', 'ESR1', 'RAD54L', 'FRAT2', 'MYT1', 'FZD10', 'BLM', 'MSH2', 'ATR', 'E2F2', 'FGF10', 'Protein', 'NOTCH1', 'WNT4', 'MTOR', 'ERAL1', 'SMEK2', 'WNT1', 'MAP3K13', 'WNT16', 'BAK', 'WNT2B', 'CSNK2A2', 'POLK', 'NOTCH3', 'PML', 'ANXA1', 'TCF/LEF', 'RALGAPA1', 'WNT6', 'SMAD3', 'SIRT1', 'BRAF', 'RRAS', 'EGFR', 'SMAD1', 'FZD5', 'TSC1', 'PPRB/RB', 'HRAS', 'CSNK1A1L', 'AXIN2', 'CERK1', 'CTNB1', 'FZD2', 'EP300', 'FGF6', 'TNFSF11', 'FLT4', 'RAD50', 'SHC4', 'CDK4', 'FGF9', 'RPS6KB2', 'RAD51', 'MAP2K1', 'FZD6', 'E2F3', 'FZD9', 'CSNK1D', 'FGF22', 'AXIN1', 'ABC3G', 'RASGRP3', 'BMPR2', 'ZN655', 'ANDR', 'FOSL2', 'IKKA', 'DNA', 'FGF5', 'WNT5B', 'WEE1', 'WNT10A', 'FGF3', 'P38', 'UBP16', 'RPP38', 'PIK3CD', 'FGF21', 'IRS1', 'FRAT1', 'JUN', 'CDK7', 'BID', 'CSNK2A1', 'DCAKD', 'PIAS1', 'PIK3R2', 'SKP1', 'NAB1', 'UBE2F', 'TGFR1', 'AHR', 'MAX', 'BARD1', 'AQP73', 'CASP3', 'ALKB1', 'TAB1', 'WNT5A', 'FGFR1', 'LRP6', 'SMCA4', 'IMPA1', 'PIK3CA', 'NOTCH2']\n",
      "\n",
      "<Morphine>\n",
      "['PRKCG', 'CYP3A4', 'CREB1', 'PRKCA', 'GNAI2', 'RGS4', 'PRKCE', 'BDNF', 'MAPK9', 'CAMK2A', 'RAC1', 'OPRM1', 'ADCY1', 'GRIN2A', 'KDR', 'E2F1', 'GRIN1', 'RGS9', 'PRKCZ', 'ADCY8', 'OPRL1', 'RAF1']\n",
      "\n",
      "<Alcohol>\n",
      "['MTR', 'CYP2E1', 'MTHFR', 'AHCY', 'MAT1A', 'ALDH1A1', 'MTRR', 'CYP2A6', 'CYP1B1', 'CYP3A4', 'CYP2C8', 'ADH1A', 'ADH1C', 'TYMS', 'DNMT1', 'ALPI', 'CYP2D6', 'ADH5', 'DNMT3b', 'ACSS2', 'CYP1A2', 'GPAT2', 'ACP6', 'SHMT1', 'ALDH1L1', 'CYP1A1', 'CYP2C19', 'FMO3', 'KIAA0828', 'MTHFD1', 'CYP3A5', 'FMO1', 'DNMT3a', 'MAT2B', 'DHFR', 'ALDH2', 'CES1', 'ADH1B', 'CYP2C9', 'CREB1']\n",
      "\n",
      "<Nicotine>\n",
      "['PRKACA', 'CREB1', 'ADCY2', 'GRIN1', 'ADCY8', 'DRD2', 'PRKACB', 'ADCY1', 'DRD4', 'ACTB', 'HES1', 'CPT1A', 'CHRNB2', 'DRD1', 'CHRNB4', 'UGT1A9', 'ADCY4', 'ADCY9', 'YWHAG', 'REST', 'ADCY5', 'NR3C1', 'ADCY10', 'DDC', 'CHRNA3', 'UGT1A4', 'ADCY6', 'NFKB1', 'ADCY7', 'GRIN2A', 'ACTG1', 'PPARGC1A', 'CHRNA7', 'CHRNA4', 'PPP1CA', 'ADCY3', 'TH', 'PRKACG', 'GRIA1', 'FMO3', 'SP1']\n"
     ]
    }
   ],
   "source": [
    "print('<Breast Cancer>')\n",
    "print(filtered_bc)\n",
    "print()\n",
    "print('<Morphine>')\n",
    "print(filtered_morphine)\n",
    "print()\n",
    "print('<Alcohol>')\n",
    "print(filtered_alcohol)\n",
    "print()\n",
    "print('<Nicotine>')\n",
    "print(filtered_nicotine)"
   ]
  },
  {
   "cell_type": "code",
   "execution_count": null,
   "id": "bccda74d",
   "metadata": {},
   "outputs": [],
   "source": []
  },
  {
   "cell_type": "code",
   "execution_count": null,
   "id": "5e554b71",
   "metadata": {},
   "outputs": [],
   "source": []
  },
  {
   "cell_type": "markdown",
   "id": "884d5b78",
   "metadata": {},
   "source": [
    "# Overlapping genes and proteins"
   ]
  },
  {
   "cell_type": "code",
   "execution_count": 35,
   "id": "05f6d582",
   "metadata": {},
   "outputs": [
    {
     "data": {
      "text/plain": [
       "['RAC1', 'E2F1', 'RAF1']"
      ]
     },
     "execution_count": 35,
     "metadata": {},
     "output_type": "execute_result"
    }
   ],
   "source": [
    "[x for x in filtered_bc if x in filtered_morphine]"
   ]
  },
  {
   "cell_type": "code",
   "execution_count": 36,
   "id": "6fffdce8",
   "metadata": {},
   "outputs": [
    {
     "data": {
      "text/plain": [
       "[]"
      ]
     },
     "execution_count": 36,
     "metadata": {},
     "output_type": "execute_result"
    }
   ],
   "source": [
    "[x for x in filtered_bc if x in filtered_alcohol]"
   ]
  },
  {
   "cell_type": "code",
   "execution_count": 37,
   "id": "91b39785",
   "metadata": {},
   "outputs": [
    {
     "data": {
      "text/plain": [
       "['HES1', 'SP1', 'NFKB1']"
      ]
     },
     "execution_count": 37,
     "metadata": {},
     "output_type": "execute_result"
    }
   ],
   "source": [
    "[x for x in filtered_bc if x in filtered_nicotine]"
   ]
  },
  {
   "cell_type": "code",
   "execution_count": null,
   "id": "5d52aa26",
   "metadata": {},
   "outputs": [],
   "source": []
  }
 ],
 "metadata": {
  "kernelspec": {
   "display_name": "Python 3",
   "language": "python",
   "name": "python3"
  },
  "language_info": {
   "codemirror_mode": {
    "name": "ipython",
    "version": 3
   },
   "file_extension": ".py",
   "mimetype": "text/x-python",
   "name": "python",
   "nbconvert_exporter": "python",
   "pygments_lexer": "ipython3",
   "version": "3.8.10"
  }
 },
 "nbformat": 4,
 "nbformat_minor": 5
}
